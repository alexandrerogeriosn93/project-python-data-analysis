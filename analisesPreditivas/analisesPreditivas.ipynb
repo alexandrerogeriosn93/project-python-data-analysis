{
 "cells": [
  {
   "cell_type": "code",
   "execution_count": null,
   "metadata": {},
   "outputs": [],
   "source": [
    "import yfinance as yf\n",
    "from prophet import Prophet\n",
    "from prophet.plot import plot_plotly\n",
    "\n",
    "ticker = input(\"Digite o codigo da acao: \")\n",
    "dados= yf.Ticker(ticker).history(\"2y\")\n",
    "\n",
    "dados.head()\n",
    "dados.plot()\n",
    "\n",
    "treinamento = dados.reset_index()\n",
    "treinamento = treinamento[[\"Date\", \"Close\"]]\n",
    "treinamento[\"Date\"] = treinamento[\"Date\"].dt.tz_localize(None)\n",
    "treinamento.columns = [\"ds\", \"y\"]\n",
    "treinamento\n",
    "\n",
    "modelo = Prophet()\n",
    "modelo.fit(treinamento)\n",
    "\n",
    "periodo = modelo.make_future_dataframe(90)\n",
    "periodo.tail(20)\n",
    "\n",
    "previsoes = modelo.predict(periodo)\n",
    "previsoes\n",
    "\n",
    "plot_plotly(modelo, previsoes)"
   ]
  }
 ],
 "metadata": {
  "kernelspec": {
   "display_name": "Python 3",
   "language": "python",
   "name": "python3"
  },
  "language_info": {
   "codemirror_mode": {
    "name": "ipython",
    "version": 3
   },
   "file_extension": ".py",
   "mimetype": "text/x-python",
   "name": "python",
   "nbconvert_exporter": "python",
   "pygments_lexer": "ipython3",
   "version": "3.11.0"
  },
  "orig_nbformat": 4
 },
 "nbformat": 4,
 "nbformat_minor": 2
}
