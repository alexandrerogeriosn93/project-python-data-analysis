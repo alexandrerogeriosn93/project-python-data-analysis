{
 "cells": [
  {
   "cell_type": "code",
   "execution_count": 3,
   "metadata": {},
   "outputs": [],
   "source": [
    "import pandas as pd\n",
    "import plotly_express as px\n",
    "\n",
    "dados = pd.read_excel(\"vendas.xlsx\")\n",
    "\n",
    "dados.head()\n",
    "dados.tail()\n",
    "\n",
    "dados.shape\n",
    "dados.dtypes\n",
    "\n",
    "dados.describe()\n",
    "\n",
    "dados.loja.value_counts()\n",
    "dados.tamanho.value_counts()\n",
    "dados.forma_pagamento.value_counts()\n",
    "\n",
    "dados.groupby(\"loja\").preco.sum()\n",
    "dados.groupby(\"loja\").preco.mean()\n",
    "\n",
    "dados.groupby(\"estado\").preco.sum()\n",
    "dados.groupby(\"estado\").preco.mean()\n",
    "\n",
    "dados.groupby([\"estado\", \"cidade\"]).preco.sum().to_frame()\n",
    "dados.groupby([\"estado\", \"cidade\"]).preco.sum().to_excel(\"Faturamento-estado.cidade.xlsx\")\n",
    "\n",
    "dados.groupby([\"estado\", \"cidade\"]).preco.mean().to_frame()\n",
    "dados.groupby([\"estado\", \"cidade\"]).preco.mean().to_excel(\"Faturamento-medio-estado.cidade.xlsx\")\n",
    "\n",
    "grafico_a = px.histogram(dados, x = \"loja\", y = \"preco\", text_auto=True, color=\"estado\")\n",
    "grafico_b = px.histogram(dados, x = \"loja\", y = \"preco\", text_auto=True, color=\"forma_pagamento\")\n",
    "grafico_c = px.histogram(dados, x = \"estado\", y = \"preco\", text_auto=True, color=\"forma_pagamento\")\n",
    "grafico_d = px.histogram(dados, x = \"cidade\", y = \"preco\", text_auto=True, color=\"forma_pagamento\")\n",
    "\n",
    "\n",
    "# grafico_a.show()\n",
    "grafico_b.write_html(\"Grafico-forma-pagamento.html\")\n",
    "\n",
    "lista_colunas = [\"loja\", \"cidade\", \"estado\", \"regiao\", \"tamanho\", \"local_consumo\"]\n",
    "\n",
    "for coluna in lista_colunas:\n",
    "    grafico = px.histogram(dados, x = coluna, y = \"preco\", text_auto=True, color=\"forma_pagamento\")\n",
    "    # grafico.show()\n",
    "    grafico.write_html(f\"Grafico-{coluna}.html\")\n",
    "\n"
   ]
  }
 ],
 "metadata": {
  "kernelspec": {
   "display_name": "Python 3",
   "language": "python",
   "name": "python3"
  },
  "language_info": {
   "codemirror_mode": {
    "name": "ipython",
    "version": 3
   },
   "file_extension": ".py",
   "mimetype": "text/x-python",
   "name": "python",
   "nbconvert_exporter": "python",
   "pygments_lexer": "ipython3",
   "version": "3.10.12"
  },
  "orig_nbformat": 4
 },
 "nbformat": 4,
 "nbformat_minor": 2
}
