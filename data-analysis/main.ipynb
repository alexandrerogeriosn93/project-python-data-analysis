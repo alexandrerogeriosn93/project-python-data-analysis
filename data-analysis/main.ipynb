{
 "cells": [
  {
   "cell_type": "code",
   "execution_count": 1,
   "metadata": {},
   "outputs": [],
   "source": [
    "import pandas as pd\n",
    "import plotly_express as px"
   ]
  },
  {
   "cell_type": "code",
   "execution_count": 2,
   "metadata": {},
   "outputs": [],
   "source": [
    "data = pd.read_excel(\"vendas.xlsx\")"
   ]
  },
  {
   "cell_type": "code",
   "execution_count": 3,
   "metadata": {},
   "outputs": [
    {
     "data": {
      "text/html": [
       "<div>\n",
       "<style scoped>\n",
       "    .dataframe tbody tr th:only-of-type {\n",
       "        vertical-align: middle;\n",
       "    }\n",
       "\n",
       "    .dataframe tbody tr th {\n",
       "        vertical-align: top;\n",
       "    }\n",
       "\n",
       "    .dataframe thead th {\n",
       "        text-align: right;\n",
       "    }\n",
       "</style>\n",
       "<table border=\"1\" class=\"dataframe\">\n",
       "  <thead>\n",
       "    <tr style=\"text-align: right;\">\n",
       "      <th></th>\n",
       "      <th>data</th>\n",
       "      <th>preco</th>\n",
       "    </tr>\n",
       "  </thead>\n",
       "  <tbody>\n",
       "    <tr>\n",
       "      <th>count</th>\n",
       "      <td>70000</td>\n",
       "      <td>70000.000000</td>\n",
       "    </tr>\n",
       "    <tr>\n",
       "      <th>mean</th>\n",
       "      <td>2021-10-01 20:36:10.697142784</td>\n",
       "      <td>8.355200</td>\n",
       "    </tr>\n",
       "    <tr>\n",
       "      <th>min</th>\n",
       "      <td>2020-01-01 00:00:00</td>\n",
       "      <td>5.000000</td>\n",
       "    </tr>\n",
       "    <tr>\n",
       "      <th>25%</th>\n",
       "      <td>2021-01-01 00:00:00</td>\n",
       "      <td>7.000000</td>\n",
       "    </tr>\n",
       "    <tr>\n",
       "      <th>50%</th>\n",
       "      <td>2022-01-02 00:00:00</td>\n",
       "      <td>7.000000</td>\n",
       "    </tr>\n",
       "    <tr>\n",
       "      <th>75%</th>\n",
       "      <td>2022-07-02 00:00:00</td>\n",
       "      <td>11.000000</td>\n",
       "    </tr>\n",
       "    <tr>\n",
       "      <th>max</th>\n",
       "      <td>2022-12-31 00:00:00</td>\n",
       "      <td>13.000000</td>\n",
       "    </tr>\n",
       "    <tr>\n",
       "      <th>std</th>\n",
       "      <td>NaN</td>\n",
       "      <td>2.653061</td>\n",
       "    </tr>\n",
       "  </tbody>\n",
       "</table>\n",
       "</div>"
      ],
      "text/plain": [
       "                                data         preco\n",
       "count                          70000  70000.000000\n",
       "mean   2021-10-01 20:36:10.697142784      8.355200\n",
       "min              2020-01-01 00:00:00      5.000000\n",
       "25%              2021-01-01 00:00:00      7.000000\n",
       "50%              2022-01-02 00:00:00      7.000000\n",
       "75%              2022-07-02 00:00:00     11.000000\n",
       "max              2022-12-31 00:00:00     13.000000\n",
       "std                              NaN      2.653061"
      ]
     },
     "execution_count": 3,
     "metadata": {},
     "output_type": "execute_result"
    }
   ],
   "source": [
    "data.head()\n",
    "data.tail()\n",
    "data.shape\n",
    "data.dtypes\n",
    "data.describe()"
   ]
  },
  {
   "cell_type": "code",
   "execution_count": 4,
   "metadata": {},
   "outputs": [
    {
     "data": {
      "text/plain": [
       "forma_pagamento\n",
       "Crédito     26063\n",
       "Débito      20427\n",
       "Dinheiro    14709\n",
       "Pix          8801\n",
       "Name: count, dtype: int64"
      ]
     },
     "execution_count": 4,
     "metadata": {},
     "output_type": "execute_result"
    }
   ],
   "source": [
    "data.loja.value_counts()\n",
    "data.tamanho.value_counts()\n",
    "data.forma_pagamento.value_counts()"
   ]
  },
  {
   "cell_type": "code",
   "execution_count": 5,
   "metadata": {},
   "outputs": [],
   "source": [
    "data.groupby(\"loja\").preco.sum()\n",
    "data.groupby(\"loja\").preco.mean()\n",
    "data.groupby(\"estado\").preco.sum()\n",
    "data.groupby(\"estado\").preco.mean()\n",
    "data.groupby([\"estado\", \"cidade\"]).preco.sum().to_frame()\n",
    "data.groupby([\"estado\", \"cidade\"]).preco.sum().to_excel(\"Faturamento-estado.cidade.xlsx\")\n",
    "data.groupby([\"estado\", \"cidade\"]).preco.mean().to_frame()\n",
    "data.groupby([\"estado\", \"cidade\"]).preco.mean().to_excel(\"Faturamento-medio-estado.cidade.xlsx\")"
   ]
  },
  {
   "cell_type": "code",
   "execution_count": 6,
   "metadata": {},
   "outputs": [],
   "source": [
    "graphic_a = px.histogram(data, x = \"loja\", y = \"preco\", text_auto=True, color=\"estado\")\n",
    "graphic_b = px.histogram(data, x = \"loja\", y = \"preco\", text_auto=True, color=\"forma_pagamento\")\n",
    "graphic_c = px.histogram(data, x = \"estado\", y = \"preco\", text_auto=True, color=\"forma_pagamento\")\n",
    "graphic_d = px.histogram(data, x = \"cidade\", y = \"preco\", text_auto=True, color=\"forma_pagamento\")"
   ]
  },
  {
   "cell_type": "code",
   "execution_count": 7,
   "metadata": {},
   "outputs": [],
   "source": [
    "graphic_b.write_html(\"Grafico-forma-pagamento.html\")"
   ]
  },
  {
   "cell_type": "code",
   "execution_count": 8,
   "metadata": {},
   "outputs": [],
   "source": [
    "columns = [\"loja\", \"cidade\", \"estado\", \"regiao\", \"tamanho\", \"local_consumo\"]\n",
    "\n",
    "for column in columns:\n",
    "    graphic = px.histogram(data, x = column, y = \"preco\", text_auto=True, color=\"forma_pagamento\")\n",
    "    graphic.write_html(f\"Grafico-{column}.html\")"
   ]
  }
 ],
 "metadata": {
  "kernelspec": {
   "display_name": "Python 3",
   "language": "python",
   "name": "python3"
  },
  "language_info": {
   "codemirror_mode": {
    "name": "ipython",
    "version": 3
   },
   "file_extension": ".py",
   "mimetype": "text/x-python",
   "name": "python",
   "nbconvert_exporter": "python",
   "pygments_lexer": "ipython3",
   "version": "3.10.12"
  },
  "orig_nbformat": 4
 },
 "nbformat": 4,
 "nbformat_minor": 2
}
